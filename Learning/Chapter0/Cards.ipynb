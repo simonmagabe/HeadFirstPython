{
 "cells": [
  {
   "cell_type": "markdown",
   "metadata": {},
   "source": [
    "# Cards Suits"
   ]
  },
  {
   "cell_type": "code",
   "execution_count": 16,
   "metadata": {},
   "outputs": [],
   "source": [
    "suits = [\"Clubs\", \"Spades\", \"Hearts\", \"Diamonds\"]\n",
    "faces = [\"Jacks\", \"Queens\", \"Kings\", \"Aces\"]\n",
    "numbered = [2, 3, 4, 5, 6, 7, 8, 9, 10]"
   ]
  },
  {
   "cell_type": "code",
   "execution_count": 17,
   "metadata": {},
   "outputs": [],
   "source": [
    "import random"
   ]
  },
  {
   "cell_type": "code",
   "execution_count": 18,
   "metadata": {},
   "outputs": [],
   "source": [
    "def draw():\n",
    "    which_suit = random.choice(suits)\n",
    "    which_type = random.choice([faces, numbered])\n",
    "    which_card = random.choice(which_type)\n",
    "    return which_card, \"of\", which_suit"
   ]
  },
  {
   "cell_type": "code",
   "execution_count": 19,
   "metadata": {},
   "outputs": [
    {
     "name": "stdout",
     "output_type": "stream",
     "text": [
      "0 -> (8, 'of', 'Diamonds')\n",
      "1 -> (6, 'of', 'Diamonds')\n",
      "2 -> ('Aces', 'of', 'Hearts')\n",
      "3 -> ('Aces', 'of', 'Clubs')\n",
      "4 -> ('Aces', 'of', 'Spades')\n"
     ]
    }
   ],
   "source": [
    "for n in range(5):\n",
    "    card = draw()\n",
    "    print(f\"{n} -> {card}\")"
   ]
  },
  {
   "cell_type": "code",
   "execution_count": 20,
   "metadata": {},
   "outputs": [],
   "source": [
    "deck = set()\n",
    "for suit in suits:\n",
    "    for card in faces + numbered:\n",
    "        deck.add(f\"{card} of {suit}\")"
   ]
  },
  {
   "cell_type": "code",
   "execution_count": 21,
   "metadata": {},
   "outputs": [
    {
     "name": "stdout",
     "output_type": "stream",
     "text": [
      "52\n"
     ]
    }
   ],
   "source": [
    "print(len(deck))"
   ]
  },
  {
   "cell_type": "code",
   "execution_count": 22,
   "metadata": {},
   "outputs": [
    {
     "name": "stdout",
     "output_type": "stream",
     "text": [
      "{'Aces of Clubs', '9 of Clubs', '2 of Hearts', '2 of Spades', '7 of Spades', '7 of Diamonds', '6 of Spades', '4 of Clubs', '8 of Spades', '6 of Hearts', '3 of Diamonds', 'Aces of Spades', '9 of Hearts', '10 of Hearts', 'Queens of Spades', '5 of Diamonds', '6 of Diamonds', '3 of Clubs', 'Kings of Diamonds', '3 of Spades', '10 of Spades', 'Jacks of Diamonds', '5 of Spades', 'Queens of Diamonds', '8 of Clubs', 'Jacks of Hearts', '5 of Hearts', 'Jacks of Spades', '5 of Clubs', '8 of Diamonds', '2 of Diamonds', 'Queens of Hearts', '7 of Hearts', 'Aces of Diamonds', 'Jacks of Clubs', '8 of Hearts', 'Kings of Clubs', 'Kings of Hearts', '9 of Spades', 'Aces of Hearts', '3 of Hearts', '2 of Clubs', '9 of Diamonds', '10 of Diamonds', 'Queens of Clubs', '6 of Clubs', '4 of Spades', '4 of Diamonds', 'Kings of Spades', '4 of Hearts', '7 of Clubs', '10 of Clubs'}\n"
     ]
    }
   ],
   "source": [
    "print(deck)"
   ]
  },
  {
   "cell_type": "code",
   "execution_count": 23,
   "metadata": {},
   "outputs": [
    {
     "name": "stdout",
     "output_type": "stream",
     "text": [
      "Help on built-in function remove:\n",
      "\n",
      "remove(...) method of builtins.set instance\n",
      "    Remove an element from a set; it must be a member.\n",
      "    \n",
      "    If the element is not a member, raise a KeyError.\n",
      "\n"
     ]
    }
   ],
   "source": [
    "help(deck.remove)"
   ]
  },
  {
   "cell_type": "code",
   "execution_count": 24,
   "metadata": {},
   "outputs": [],
   "source": [
    "def draw():\n",
    "    card = random.choice(list(deck))\n",
    "    deck.remove(card)\n",
    "    return card"
   ]
  },
  {
   "cell_type": "code",
   "execution_count": 25,
   "metadata": {},
   "outputs": [],
   "source": [
    "deck = set()\n",
    "for suit in suits:\n",
    "    for card in faces + numbered:\n",
    "        deck.add(f\"{card} of {suit}\")"
   ]
  },
  {
   "cell_type": "code",
   "execution_count": 26,
   "metadata": {},
   "outputs": [
    {
     "data": {
      "text/plain": [
       "52"
      ]
     },
     "execution_count": 26,
     "metadata": {},
     "output_type": "execute_result"
    }
   ],
   "source": [
    "len(deck)"
   ]
  },
  {
   "cell_type": "code",
   "execution_count": 27,
   "metadata": {},
   "outputs": [
    {
     "name": "stdout",
     "output_type": "stream",
     "text": [
      "5 of Hearts\n",
      "Aces of Clubs\n",
      "7 of Spades\n",
      "3 of Diamonds\n",
      "8 of Diamonds\n"
     ]
    }
   ],
   "source": [
    "for _ in range(5):\n",
    "    print(draw())"
   ]
  },
  {
   "cell_type": "code",
   "execution_count": 28,
   "metadata": {},
   "outputs": [
    {
     "data": {
      "text/plain": [
       "47"
      ]
     },
     "execution_count": 28,
     "metadata": {},
     "output_type": "execute_result"
    }
   ],
   "source": [
    "len(deck)"
   ]
  },
  {
   "cell_type": "code",
   "execution_count": 29,
   "metadata": {},
   "outputs": [
    {
     "data": {
      "text/plain": [
       "True"
      ]
     },
     "execution_count": 29,
     "metadata": {},
     "output_type": "execute_result"
    }
   ],
   "source": [
    "'10 of Clubs' in deck"
   ]
  },
  {
   "cell_type": "code",
   "execution_count": 30,
   "metadata": {},
   "outputs": [
    {
     "name": "stdout",
     "output_type": "stream",
     "text": [
      "Draw! Draw! Draw!\n"
     ]
    }
   ],
   "source": [
    "if '2 of Diamonds' not in deck:\n",
    "    print(\"Draw another card. That one's taken.\")\n",
    "else:\n",
    "    print(\"Draw! Draw! Draw!\")"
   ]
  }
 ],
 "metadata": {
  "kernelspec": {
   "display_name": "Python 3",
   "language": "python",
   "name": "python3"
  },
  "language_info": {
   "codemirror_mode": {
    "name": "ipython",
    "version": 3
   },
   "file_extension": ".py",
   "mimetype": "text/x-python",
   "name": "python",
   "nbconvert_exporter": "python",
   "pygments_lexer": "ipython3",
   "version": "3.10.4"
  },
  "orig_nbformat": 4
 },
 "nbformat": 4,
 "nbformat_minor": 2
}
