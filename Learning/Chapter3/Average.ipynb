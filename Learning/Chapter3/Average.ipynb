{
 "cells": [
  {
   "cell_type": "code",
   "execution_count": 88,
   "metadata": {},
   "outputs": [],
   "source": [
    "import statistics\n",
    "\n",
    "def getFileNameData(FileName):\n",
    "    return FileName.removesuffix(\".txt\").split(\"-\")\n",
    "\n",
    "def getDataFromFile(FOLDER_PATH, FILE_NAME):\n",
    "    with open(FOLDER_PATH + FILE_NAME) as file:\n",
    "        return file.readlines()[0].strip().split(\",\")\n",
    "\n",
    "def convertTimesToMilliseconds(times):\n",
    "    converted_times = []\n",
    "    for time in times:\n",
    "        minutes, seconds, hundreths = time.replace(\":\", \".\").split(\".\")\n",
    "        converted_times.append((int(minutes) * 60 * 100) + (int(seconds) * 100) + int(hundreths))\n",
    "    return converted_times\n",
    "\n",
    "def getAverageTimeString(conveted_time_ms):\n",
    "    average = statistics.mean(conveted_time_ms)\n",
    "    min_secs, hundreths = str(round(average/100, 2)).split(\".\")\n",
    "    min_secs = int(min_secs)\n",
    "    minutes = min_secs // 60\n",
    "    seconds = min_secs - minutes*60\n",
    "    return f\"{minutes}:{seconds}.{hundreths}\""
   ]
  },
  {
   "cell_type": "code",
   "execution_count": 89,
   "metadata": {},
   "outputs": [],
   "source": [
    "FN = \"Darius-13-100m-Fly.txt\"\n",
    "FOLDER = \"..\\swimdata/\""
   ]
  },
  {
   "cell_type": "markdown",
   "metadata": {},
   "source": [
    "swimmer, age, distance, stroke"
   ]
  },
  {
   "cell_type": "code",
   "execution_count": 90,
   "metadata": {},
   "outputs": [
    {
     "data": {
      "text/plain": [
       "['Darius', '13', '100m', 'Fly']"
      ]
     },
     "execution_count": 90,
     "metadata": {},
     "output_type": "execute_result"
    }
   ],
   "source": [
    "getFileNameData(FN)"
   ]
  },
  {
   "cell_type": "markdown",
   "metadata": {},
   "source": [
    "times"
   ]
  },
  {
   "cell_type": "code",
   "execution_count": 91,
   "metadata": {},
   "outputs": [
    {
     "data": {
      "text/plain": [
       "['1:27.95', '1:21.07', '1:30.96', '1:23.22', '1:27.95', '1:28.30']"
      ]
     },
     "execution_count": 91,
     "metadata": {},
     "output_type": "execute_result"
    }
   ],
   "source": [
    "getDataFromFile(FOLDER, FN)"
   ]
  },
  {
   "cell_type": "markdown",
   "metadata": {},
   "source": [
    "average"
   ]
  },
  {
   "cell_type": "code",
   "execution_count": 92,
   "metadata": {},
   "outputs": [
    {
     "data": {
      "text/plain": [
       "'1:26.58'"
      ]
     },
     "execution_count": 92,
     "metadata": {},
     "output_type": "execute_result"
    }
   ],
   "source": [
    "getAverageTimeString(convertTimesToMilliseconds(getDataFromFile(FOLDER, FN)))"
   ]
  }
 ],
 "metadata": {
  "kernelspec": {
   "display_name": "base",
   "language": "python",
   "name": "python3"
  },
  "language_info": {
   "codemirror_mode": {
    "name": "ipython",
    "version": 3
   },
   "file_extension": ".py",
   "mimetype": "text/x-python",
   "name": "python",
   "nbconvert_exporter": "python",
   "pygments_lexer": "ipython3",
   "version": "3.11.4"
  },
  "orig_nbformat": 4
 },
 "nbformat": 4,
 "nbformat_minor": 2
}
